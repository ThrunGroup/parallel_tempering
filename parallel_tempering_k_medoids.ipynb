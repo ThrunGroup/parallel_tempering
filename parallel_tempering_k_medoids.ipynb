{
  "cells": [
    {
      "cell_type": "code",
      "source": [
        "# data generation\n",
        "import random\n",
        "rand_points = []\n",
        "for i in range(1, 1000):\n",
        "  rand_points.append((random.randint(1,1000), random.randint(1,1000)))\n",
        "rand_points"
      ],
      "metadata": {
        "id": "NIH6OBoRMdLw"
      },
      "execution_count": null,
      "outputs": []
    },
    {
      "cell_type": "code",
      "source": [
        "# loss with in-built pypi package\n",
        "diss = euclidean_distances(rand_points)\n",
        "fp = kmedoids.fasterpam(diss, 10)\n",
        "print(\"Loss with FasterPAM:\", fp.loss)"
      ],
      "metadata": {
        "colab": {
          "base_uri": "https://localhost:8080/"
        },
        "id": "uNj1kYPrHsf-",
        "outputId": "4d016989-72f2-42d8-a411-04d6e700f287"
      },
      "execution_count": null,
      "outputs": [
        {
          "output_type": "stream",
          "name": "stdout",
          "text": [
            "Loss with FasterPAM: 118368.703514011\n"
          ]
        }
      ]
    },
    {
      "cell_type": "code",
      "execution_count": null,
      "metadata": {
        "id": "xw0JtMWaamwj",
        "colab": {
          "base_uri": "https://localhost:8080/"
        },
        "outputId": "139766f8-5507-4919-e090-aec3efc753a4"
      },
      "outputs": [
        {
          "output_type": "stream",
          "name": "stdout",
          "text": [
            "Looking in indexes: https://pypi.org/simple, https://us-python.pkg.dev/colab-wheels/public/simple/\n",
            "Requirement already satisfied: kmedoids in /usr/local/lib/python3.8/dist-packages (0.4.1)\n"
          ]
        }
      ],
      "source": [
        "# using parallel tempering\n",
        "!pip install kmedoids\n",
        "\n",
        "import math\n",
        "import random\n",
        "import kmedoids\n",
        "import numpy as np\n",
        "from sklearn.metrics.pairwise import euclidean_distances\n",
        "def euc_dist(\n",
        "    p : tuple,\n",
        "    q : tuple,\n",
        ") -> int:\n",
        "  \"\"\"\n",
        "  Finds the euclidean distance between points p and q\n",
        "\n",
        "  :param p: the first point\n",
        "  :param q: the second point\n",
        "  :return: the Euclidean distance between the points\n",
        "  \"\"\"\n",
        "  # f(x) is the measure of these states (in terms of euclidean distance)\n",
        "  dist = ((q[0] - p[0])**2 + (q[1] - p[1])**2)**0.5\n",
        "  return dist\n",
        "\n",
        "def closest_dist(\n",
        "    medoids : list,\n",
        "    x : tuple,\n",
        ") -> int:\n",
        "  \"\"\"\n",
        "  Finds the smallest distance between x and the closest medoid\n",
        "\n",
        "  :param medoids: list of all the medoids\n",
        "  :param x: a point\n",
        "  :return: the smallest Euclidean distance between the point and its closest medoid\n",
        "  \"\"\"\n",
        "  min = 2**32 - 1\n",
        "  for i in medoids:\n",
        "    if euc_dist(i, x) < min:\n",
        "      min = euc_dist(i, x)\n",
        "  return min\n",
        "\n",
        "def total_dist(\n",
        "    points : list, \n",
        "    medoids : list,\n",
        ") -> int:\n",
        "  \"\"\"\n",
        "  Adds up the closest_dist for each point with its closest medoid\n",
        "\n",
        "  :param points: list of all the points (including the medoids)\n",
        "  :param medoids: list of the medoids\n",
        "  :return: the sum of smallest Euclidean distances for all points\n",
        "  \"\"\"\n",
        "  total = 0\n",
        "  for i in points:\n",
        "    total += closest_dist(medoids, i)\n",
        "  return total\n",
        "\n",
        "def possible_states(\n",
        "    points : list, \n",
        "    medoids : list,\n",
        ") -> list:\n",
        "  \"\"\"\n",
        "  Returns the possible states for medoids (potential combinations of medoids \n",
        "  after performing swaps)\n",
        "\n",
        "  :param points: list of all the points (including the medoids)\n",
        "  :param medoids: list of the medoids\n",
        "  :return: the list representing the possible states of medoids\n",
        "  \"\"\"\n",
        "  # states represent possible states for the medoids\n",
        "  # which result from swapping a (medoid, non-medoid) pair\n",
        "  states = []\n",
        "  non_medoids = []\n",
        "  for i in points:\n",
        "    if i not in medoids:\n",
        "      non_medoids.append(i)\n",
        "  for i in range(len(medoids)):\n",
        "    for j in range(len(non_medoids)):\n",
        "      medoids[i] = non_medoids[j]\n",
        "      states.append(medoids)\n",
        "  return states\n",
        "\n",
        "def swap_medoids(\n",
        "    states : list, \n",
        "    medoids : list, \n",
        "    points : list, \n",
        "    T : int,\n",
        ") -> list:\n",
        "  \"\"\"\n",
        "  Returns the best state for which the total Euclidean distance is smallest\n",
        "\n",
        "  :param states: list representing the list of possible medoids\n",
        "  :param medoids: list of the medoids\n",
        "  :param T: represents the temperature, affecting the model's transition probability\n",
        "  :param points: list of all the points (including the medoids)\n",
        "  :return: the set of medoids after the swap with largest transition probability\n",
        "  \"\"\"\n",
        "  best_state = states[0]\n",
        "  tp = 0 # transition probability\n",
        "  for state in states:\n",
        "    # state represents the set of medoids\n",
        "    # f(x') or f_new_state is just total_dist(points, state)\n",
        "    initial_f = total_dist(points, medoids)\n",
        "    f_new_state = total_dist(points, state)\n",
        "    if ((math.e)**(-1/T * (initial_f - f_new_state > tp))):\n",
        "      tp = (math.e)**(-1/T * (initial_f - f_new_state))\n",
        "      best_state = state\n",
        "    total_loss = f_new_state\n",
        "\n",
        "  # make the swap which corresponds to the largest transition probability\n",
        "  medoids = best_state\n",
        "  return medoids, total_loss\n",
        "\n",
        "def pypi_faster_pam(\n",
        "    points : list, \n",
        "    k : int,\n",
        ") -> int:\n",
        "  k = 10\n",
        "  diss = euclidean_distances(points)\n",
        "  fp = kmedoids.fasterpam(diss, k)\n",
        "  return fp.loss\n",
        "\n",
        "def main(\n",
        "    points : list, \n",
        "    T : int, \n",
        "    k : int,\n",
        ") -> int:\n",
        "  \"\"\"\n",
        "  Returns k medoids for a set of points depending on a certain temperature\n",
        "\n",
        "  :param points: list of all the points (including the medoids)\n",
        "  :param T: represents the temperature, affecting the model's transition probability\n",
        "  :param k: the number of medoids in a sample of points\n",
        "  :return: the best state for medoids\n",
        "  \"\"\"\n",
        "  # medoids currently represents the initialization of choosing the medoids\n",
        "  medoids = random.sample(points, k) \n",
        "  \n",
        "  # run chains for various values of T  (temperature)\n",
        "  # T is geometrically defined (0, T, 2T, 4T, 8T, etc.)\n",
        "  # T_values = [0]\n",
        "  #for temp in T_values:\n",
        "  states = possible_states(points, medoids)\n",
        "  medoids, pt_total_loss = swap_medoids(states, medoids, points, T)\n",
        "  pypi_loss = pypi_faster_pam(points, k)\n",
        "  print(\"Loss using parallel tempering: \", pt_total_loss)\n",
        "  print(\"Loss using the in-built Pypi package: \", pypi_loss)\n",
        "  return pt_total_loss"
      ]
    },
    {
      "cell_type": "code",
      "source": [
        "T = 0.001\n",
        "for i in range(5):\n",
        "    T *= 2\n",
        "    print(T, main(rand_points, T, k = 10))"
      ],
      "metadata": {
        "id": "9wqIplYXjrTp"
      },
      "execution_count": null,
      "outputs": []
    }
  ],
  "metadata": {
    "colab": {
      "provenance": []
    },
    "kernelspec": {
      "display_name": "Python 3",
      "name": "python3"
    },
    "language_info": {
      "name": "python"
    },
    "gpuClass": "standard"
  },
  "nbformat": 4,
  "nbformat_minor": 0
}